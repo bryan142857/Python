{
 "cells": [
  {
   "cell_type": "markdown",
   "metadata": {
    "slideshow": {
     "slide_type": "slide"
    }
   },
   "source": [
    "***\n",
    "## <center> EXTRACCIÓN DE DATOS DESDE UN FORMATO RASTER </center>\n",
    "### <center>CÓDIGO      :     PYTHON </center>\n",
    "### <center>LIBRERIAS   :     RASTERIO </center>\n",
    "### <center>POR         :     VICTOR B. VELÁSQUEZ HUAMÁN </center>\n",
    "### <center>NOMBRE      :     PYFRED </center>\n",
    "### <center>FECHA       :     MARCH 23, 2019</center>\n",
    "***\n",
    ">TEMA: Extracción de datos de Precipitación desde un Formato Raster del Producto  Grillado **PISCO-SENAMHI** , **GPM** , **TRMM**, **CHIRPS**"
   ]
  },
  {
   "cell_type": "markdown",
   "metadata": {
    "slideshow": {
     "slide_type": "slide"
    }
   },
   "source": [
    "***Intalación de Librerias***"
   ]
  },
  {
   "cell_type": "code",
   "execution_count": 20,
   "metadata": {
    "slideshow": {
     "slide_type": "-"
    }
   },
   "outputs": [],
   "source": [
    "#!pip install xlrd==1.2.0 "
   ]
  },
  {
   "cell_type": "markdown",
   "metadata": {},
   "source": [
    "***Importación de Librerias***"
   ]
  },
  {
   "cell_type": "code",
   "execution_count": 21,
   "metadata": {},
   "outputs": [],
   "source": [
    "from tqdm.notebook import tnrange, tqdm_notebook\n",
    "import numpy as np\n",
    "import rasterio\n",
    "import xlrd\n",
    "import xlwt\n",
    "import os"
   ]
  },
  {
   "cell_type": "markdown",
   "metadata": {
    "slideshow": {
     "slide_type": "slide"
    }
   },
   "source": [
    "### 1.0  MODELOS LÓGICOS\n",
    "<p style=\"text-align: justify;\"> El modelo logico hace referencia a como se muestrean y organizan las variables y objetos para lograr una representación lo más adecuada posible. En un SIG existen básicamente dos modelos lógicos que se conocen como <b>formato raster y formato vectorial</b> y que dan lugar a los dos grandes tipos de capas de información espacial.(MappingGIS,<a href=\"https://mappinggis.com/2015/12/los-formatos-gis-raster-mas-populares/\">Visit MappingGIS</a>) </p>\n",
    "\n",
    "\n",
    "#### 1.1  MODELOS RASTER\n",
    "<p style=\"text-align: justify;\"> Es una imagen dicretizada de manera regular las que se denominan (PIXELS), las cuales continen  valores en cada una de ellas, estos dependen del tamaño de resolucion que se les atribuye, asi mismo cabe indidar que tambien pueden tener valores multiples en una unidad de Pixel, a estos se denominana bandas (RATER MULTIBANDA). Los datos de del producto grillado PISCO-SENAMHI, son Raster que una sola banda, a una resolucion de 0.1° equivalente a 10 km, las cauales contienen valores de precipitacion diaria.  </p>\n",
    "<figure>\n",
    "<img src = \"./Imagenes/Raster_dataset.PNG\" alt = \"Sol\" style=\"width:400px\"> </img>\n",
    "<figcaption> (Fuente :Adaptado desde,<a href=\"https://docs.qgis.org/2.14/es/docs/gentle_gis_introduction/raster_data.html\">Documentación para Qgis 2.14</a>)\n",
    "</figcaption> \n",
    "</figure>\n",
    "\n",
    "\n",
    "\n",
    "#### 1.2  MODELOS VECTORIAL\n",
    "<p style=\"text-align: justify;\">Un SIG vectorial se define por la representación vectorial de sus datos geográficos. De acuerdo a las peculiaridades de este modelo de datos, los objetos geográficos se representan explícitamente y, junto a sus características espaciales, se asocian sus valores temáticos.(<a href=\"https://www.geogra.uah.es/gisweb/1modulosespanyol/IntroduccionSIG/GISModule/GIST_Vector.htm#:~:text=Un%20SIG%20vectorial%20se%20define,se%20asocian%20sus%20valores%20tem%C3%A1ticos.\">Gis self Learning tool</a>)</p>\n",
    "\n",
    "\n"
   ]
  },
  {
   "cell_type": "markdown",
   "metadata": {
    "slideshow": {
     "slide_type": "slide"
    }
   },
   "source": [
    "### 2.0  EJEMPLO APLICATIVO\n",
    "<p style=\"text-align: justify;\"> Para la Sub Cuenca del río Huarpa, obtener los datos de precipitación del prodcuto grillado PISCO-SENAMHi, de forma distibuida y en los centros de gravedad de las microcuencas</p>\n",
    "\n",
    "<figure>\n",
    "<img src = \"./Imagenes/SubCuenca_Angaraes.PNG\" alt = \"Sol\" style=\"width:800px\"> </img>\n",
    "<figcaption> (Fuente :Elaboracion Propia,<a href=\"https://drive.google.com/drive/folders/1SxBFJkKzgfn1KRmalPmrqFrsAGAVHcjp?usp=sharing\">Qgis</a>)\n",
    "</figcaption> \n",
    "</figure>\n"
   ]
  },
  {
   "cell_type": "markdown",
   "metadata": {
    "slideshow": {
     "slide_type": "subslide"
    }
   },
   "source": [
    "|Código|Xgeo| YGeo   | Nombre |\n",
    "|---------|--|------|------|\n",
    "|499621|-74.3926|-12.933|Estacion Sintetica 01|\n",
    "|499622|-74.5243|-13.0552|Estacion Sintetica 02|\n",
    "|499623|-74.5666|-12.8864|Estacion Sintetica 03|\n",
    "|499624|-74.7334|-12.7827|Estacion Sintetica 04|\n",
    "|499625|-74.7108|-12.9252|Estacion Sintetica 05|\n",
    "|499626|-74.693|-13.1627|Estacion Sintetica 06|\n",
    "|499627|-74.8197|-13.0535|Estacion Sintetica 07|\n",
    "|499628|-74.9634|-12.9013|Estacion Sintetica 08|\n",
    "|499629|-74.9634|-13.044|Estacion Sintetica 09|\n"
   ]
  },
  {
   "cell_type": "code",
   "execution_count": 22,
   "metadata": {
    "slideshow": {
     "slide_type": "slide"
    }
   },
   "outputs": [],
   "source": [
    "path = \"F:\\\\Precipitacion_Remota\\\\Download_Pisco\""
   ]
  },
  {
   "cell_type": "code",
   "execution_count": 25,
   "metadata": {
    "slideshow": {
     "slide_type": "slide"
    }
   },
   "outputs": [],
   "source": [
    "class Extract_Pisco():   \n",
    "    def __init__(self):\n",
    "        xls = xlrd.open_workbook(path +\"\\\\Point.xlsx\")\n",
    "        libro = xls.sheet_by_index(7)\n",
    "        self.Name_Estaciones = libro.col_values(0)[1::]\n",
    "        self.x = libro.col_values(1)[1::]\n",
    "        self.y = libro.col_values(2)[1::]\n",
    "        \n",
    "    def DataPre(self):\n",
    "        os.chdir(path) \n",
    "        fileDir= path\n",
    "        fileExt = r\".tif\"\n",
    "        Lis = [_ for _ in os.listdir(fileDir) if _.endswith(fileExt)]\n",
    "        Lis.sort()\n",
    "        Inicio = '1981-01-01.tif'\n",
    "        Fin    = '2018-07-31.tif'\n",
    "        Rini = Lis.index(Inicio)\n",
    "        Rend = Lis.index(Fin)\n",
    "        self.Lis = Lis[Rini:Rend+1]\n",
    "        self.ListPre = []\n",
    "        for i in tnrange (0,len(self.Lis),desc = \"!! Extraendo Datos !!\"):\n",
    "            with rasterio.open(self.Lis[i]) as Data:\n",
    "                Band = Data.read(1)\n",
    "                X,Y  = Data.index(self.x,self.y)\n",
    "                Pre  = Band[X,Y]\n",
    "                self.ListPre.append(Pre)\n",
    "                \n",
    "    def ExportExcel(self):\n",
    "        style0 = xlwt.easyxf('font: name Century Gothic, color-index blue, bold on, height 180 ;align: vert centre, horz center')\n",
    "        style1 = xlwt.easyxf('font: name Century Gothic, color-index black, bold off, height 180;align: vert centre, horz center', num_format_str='#,##0.000')\n",
    "        style2 = xlwt.easyxf('font: name Century Gothic, color-index black, bold on, height 180;align: vert centre, horz center', num_format_str='#,##0.000')\n",
    "        wb = xlwt.Workbook()\n",
    "        ws = wb.add_sheet('Export')\n",
    "        ws.write(0, 0, u'Fecha', style0)\n",
    "\n",
    "        for i in range (0,len(self.Name_Estaciones)):\n",
    "            ws.write(0, i+1, self.Name_Estaciones[i], style0)\n",
    "\n",
    "        for i in range(0, len(self.Lis)):\n",
    "            ws.write(i+1, 0, self.Lis[i][:-4], style2) \n",
    "\n",
    "            for j in range (0,len(self.Name_Estaciones)):\n",
    "                if (len(self.Name_Estaciones) ==1):\n",
    "                    ws.write(i+1, j+1, self.ListPre[i].astype(np.float64),style1)\n",
    "                else:\n",
    "                    ws.write(i+1, j+1, self.ListPre[i][j].astype(np.float64),style1)\n",
    "        wb.save('Reporte_Fred.xls')"
   ]
  },
  {
   "cell_type": "code",
   "execution_count": 26,
   "metadata": {
    "slideshow": {
     "slide_type": "subslide"
    }
   },
   "outputs": [
    {
     "data": {
      "application/vnd.jupyter.widget-view+json": {
       "model_id": "c8931094036445c889335219e7e40b4c",
       "version_major": 2,
       "version_minor": 0
      },
      "text/plain": [
       "!! Extraendo Datos !!:   0%|          | 0/13726 [00:00<?, ?it/s]"
      ]
     },
     "metadata": {},
     "output_type": "display_data"
    }
   ],
   "source": [
    "Pisco = Extract_Pisco()\n",
    "Pisco.DataPre()\n",
    "Pisco.ExportExcel()\n"
   ]
  },
  {
   "cell_type": "markdown",
   "metadata": {
    "slideshow": {
     "slide_type": "slide"
    }
   },
   "source": [
    "### 3.0 REFERENCIAS\n",
    "<ul>\n",
    " <li> Senamhi </li>\n",
    "    \n",
    "[SENAMHI](https://www.senamhi.gob.pe/?p=observacion-de-inundaciones).\n",
    "   \n",
    "  <li> Libreria Rasterio </li>\n",
    "    \n",
    "[Rasterio](https://rasterio.readthedocs.io/en/latest/installation.html).   \n",
    "    \n",
    "  <li> Libreria Xlrd</li>\n",
    "    \n",
    "[Xlrd](https://pypi.org/project/xlrd/).           \n",
    "    \n",
    "<li> GitHub Victor Brian Velásquez Huamán </li>\n",
    "    \n",
    "[GitHub](https://github.com/bryan142857/Python).\n",
    "    \n",
    "</ul>\n"
   ]
  }
 ],
 "metadata": {
  "celltoolbar": "Slideshow",
  "jupytext": {
   "formats": "ipynb"
  },
  "kernelspec": {
   "display_name": "Python 3",
   "language": "python",
   "name": "python3"
  },
  "language_info": {
   "codemirror_mode": {
    "name": "ipython",
    "version": 3
   },
   "file_extension": ".py",
   "mimetype": "text/x-python",
   "name": "python",
   "nbconvert_exporter": "python",
   "pygments_lexer": "ipython3",
   "version": "3.7.1"
  },
  "rise": {
   "backimage": "3C_4_Rec.png",
   "center": true,
   "enable_chalkboard": true,
   "footer": "<h3>3C-Ingeniería </h3>"
  }
 },
 "nbformat": 4,
 "nbformat_minor": 2
}
