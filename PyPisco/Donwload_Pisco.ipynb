{
 "cells": [
  {
   "cell_type": "markdown",
   "metadata": {
    "slideshow": {
     "slide_type": "slide"
    }
   },
   "source": [
    "***\n",
    "## <center> DESCARGA DEL PRODUCTO GRILLADO PISCO</center>\n",
    "### <center>CÓDIGO      :     PYTHON </center>\n",
    "### <center>LIBRERIAS   :     FTPLIB - RISE </center>\n",
    "### <center>POR         :     VICTOR B. VELÁSQUEZ HUAMÁN </center>\n",
    "### <center>NOMBRE      :     PYPISCO </center>\n",
    "### <center>FECHA       :     MARCH 23, 2019</center>\n",
    "***\n",
    ">TEMA: Descarga de Precipitación del Producto  Grillado **PISCO-SENAMHI**"
   ]
  },
  {
   "cell_type": "markdown",
   "metadata": {
    "slideshow": {
     "slide_type": "subslide"
    }
   },
   "source": [
    "***Intalación de Librerias***"
   ]
  },
  {
   "cell_type": "code",
   "execution_count": 1,
   "metadata": {
    "slideshow": {
     "slide_type": "subslide"
    }
   },
   "outputs": [],
   "source": [
    "#!pip install tqdm\n",
    "#!pip install rise"
   ]
  },
  {
   "cell_type": "markdown",
   "metadata": {
    "slideshow": {
     "slide_type": "subslide"
    }
   },
   "source": [
    "***Importación de Librerias***"
   ]
  },
  {
   "cell_type": "code",
   "execution_count": 2,
   "metadata": {
    "slideshow": {
     "slide_type": "subslide"
    }
   },
   "outputs": [],
   "source": [
    "from tqdm import tnrange, tqdm_notebook\n",
    "import datetime\n",
    "#import unittest\n",
    "import ftplib\n",
    "import os"
   ]
  },
  {
   "cell_type": "markdown",
   "metadata": {
    "slideshow": {
     "slide_type": "slide"
    }
   },
   "source": [
    "### 1.0  PRODUCTO GRILLADO PISCO \n",
    "<p style=\"text-align: justify;\"> Se denomina PISCO por sus siglas a <b>Peruvian Interpolation data of the SENAMHIs Climatological and Hidrological Observations</b>. Las cuales se encuentra en todo el territorio Peruano, las que\n",
    "son estimaciones por sensoramiento remoto es una fuente alterna de\n",
    "información siendo calibradas y validadas debido a la naturaleza indirecta de la\n",
    "medición. Climate Hazards Group Infrared Precipitation with Stations (CHIRPS)\n",
    "y Peruvian Interpolation data of the SENAMHI’s Climatological and Hidrological\n",
    "Observations (PISCO).</p>\n",
    "\n",
    "\n",
    "<figure>\n",
    "<img src = \"./Imagenes/Pisco.PNG\" alt = \"Sol\" style=\"width:500px\"> </img>\n",
    "    <figcaption> Fuente :Adaptado desde \"Generación de datos grillados de precipitación diaria y su utilidad para el monitoreo de inundaciones\", Lavado et al.</figcaption> \n",
    "</figure>\n"
   ]
  },
  {
   "cell_type": "markdown",
   "metadata": {
    "slideshow": {
     "slide_type": "slide"
    }
   },
   "source": [
    "### 2.0  DISTRIBUCIÓN ESPACIAL Y TEMPORAL\n",
    "\n",
    " #### 2.1  DISTRIBUCIÓN ESPACIAL\n",
    "Actualmente brindan esta información en una resolución\n",
    "espacial de 0.1 grados latitud y longitud. Funk et al. (2015, p. 10), menciona\n",
    "que CHIRPS valida las precipitaciones para el Perú con 403 estaciones que le\n",
    "brinda la Autoridad Nacional del Agua (ANA) Perú\n",
    "\n",
    " #### 2.2  DISTRIBUCIÓN TEMPORAL\n",
    "En la Plataforma FTP, se disponen de diferentes versiones y se localizan 02 archivos de con variaciones temporales las que se  describe a continuacion:\n",
    "\n",
    "<ul>\n",
    "\n",
    "  <li>Cuenta con una representación temporal desde el 01/01/1981 hasta la 31/07/2018,a escala diaria,</li>\n",
    "\n",
    "  <li>Cuenta con una representación temporal desde el 01/01/1981 hasta la 31/12/2016,a escala diaria.</li>\n",
    "\n",
    "</ul>\n",
    "\n",
    "\n",
    "|Data|ID| Datos   | Desde |Hasta|\n",
    "|---------|--|------|------|--------------|\n",
    "|Stable|N°1|01|01/01/1981|31/12/2016|\n",
    "|Unstable|N°2|13726|01/01/1981|31/07/2018|\n"
   ]
  },
  {
   "cell_type": "markdown",
   "metadata": {
    "slideshow": {
     "slide_type": "slide"
    }
   },
   "source": [
    "### 3.0 DIRECCIÓNES DE DESCARGA  \n",
    "El producto Pisco se encuentra con una resolución espacial de 0.1° y temporal\n",
    "desde el año 1981 hasta los años de 2016 y 2018, se puede descargar de varios sitios Web\n",
    "entre ellos tenemos los siguientes:\n",
    "<ul>\n",
    " <li>International Research Institute for Climate Society</li> \n",
    "    \n",
    "[IRI](http://iridl.ldeo.columbia.edu/SOURCES/.SENAMHI/.HSR/.PISCO/).\n",
    "\n",
    " <li>Desde el servidor Senamhi - ftp://ftp.senamhi.gob.pe/PISCOp_V2.1_beta</li>\n",
    "\n",
    "[SENAMHI](https://www.senamhi.gob.pe/?p=observacion-de-inundaciones).\n",
    "    \n",
    "</ul>\n",
    "\n",
    "\n",
    "*\n",
    "    \n",
    "<figure>\n",
    "<img src = \"./Imagenes/Pisco_.PNG\" alt = \"Sol\" style=\"width:350px\"> </img>\n",
    "<figcaption>Fuente :Elaboracion Propia - Desarrollado en software Qgis</figcaption> \n",
    "</figure>"
   ]
  },
  {
   "cell_type": "markdown",
   "metadata": {
    "slideshow": {
     "slide_type": "slide"
    }
   },
   "source": [
    "### 4.0 DESCARGA DESDE PYTHON\n"
   ]
  },
  {
   "cell_type": "code",
   "execution_count": 7,
   "metadata": {
    "slideshow": {
     "slide_type": "slide"
    }
   },
   "outputs": [],
   "source": [
    "class Download_Dail_Pisco(): \n",
    "    def __init__(self):\n",
    "        Direction = 'ftp.senamhi.gob.pe'\n",
    "        User = 'publi_dgh2'\n",
    "        Password = '123456'\n",
    "        self.Tp = ftplib.FTP(Direction)\n",
    "        self.Tp.login(User,Password)\n",
    "        \n",
    "    def time (self):\n",
    "        #Especifique El periodo de busqueda \n",
    "        self.Start_Date = datetime.date(2011, 4, 2)\n",
    "        self.End_Date = datetime.date(2011, 4, 10)\n",
    "        \n",
    "        # Ubicacmos el Directorio\n",
    "        path = \"C:\\\\Users\\\\ASUS\\\\Desktop\"\n",
    "        Name = \"Download_Piscog\"\n",
    "        os.chdir(path)\n",
    "        os.mkdir(Name)\n",
    "        self.Path = os.chdir(path +\"\\\\\"+ Name)\n",
    "     \n",
    "        #Archivos \n",
    "        print(self.Tp.pwd())\n",
    "        \n",
    "        #Ubicacion de los archivos diarios de precipitacion\n",
    "        self.Dir = self.Tp.cwd('PISCOp_V2.1_beta/Daily_Products/unstable/PISCOpd')\n",
    "            \n",
    "    def Download(self):\n",
    "        Intervalo = datetime.timedelta(days=1)\n",
    "        for i in tnrange((self.End_Date - self.Start_Date + datetime.timedelta(days=1)).days, desc = \"!! Descargando !!\"):\n",
    "            Name_Precipitation = str(self.Start_Date + i*Intervalo)\n",
    "            self.Tp.retrbinary(\"RETR \"+'PISCOpd_V2.1.'+ Name_Precipitation +'.tif', open(Name_Precipitation+'.tif', 'wb').write)\n",
    "        self.Tp.quit()"
   ]
  },
  {
   "cell_type": "code",
   "execution_count": 8,
   "metadata": {
    "slideshow": {
     "slide_type": "slide"
    }
   },
   "outputs": [
    {
     "name": "stdout",
     "output_type": "stream",
     "text": [
      "/home/imgdgh2\n"
     ]
    },
    {
     "name": "stderr",
     "output_type": "stream",
     "text": [
      "C:\\Users\\ASUS\\Anaconda3\\lib\\site-packages\\ipykernel_launcher.py:29: TqdmDeprecationWarning: Please use `tqdm.notebook.trange` instead of `tqdm.tnrange`\n"
     ]
    },
    {
     "data": {
      "application/vnd.jupyter.widget-view+json": {
       "model_id": "d715cddfeae94c5984918b379b58cf89",
       "version_major": 2,
       "version_minor": 0
      },
      "text/plain": [
       "!! Descargando !!:   0%|          | 0/9 [00:00<?, ?it/s]"
      ]
     },
     "metadata": {},
     "output_type": "display_data"
    }
   ],
   "source": [
    "if __name__ == \"__main__\": \n",
    "    t = Download_Dail_Pisco()\n",
    "    t.time()\n",
    "    t.Download()"
   ]
  },
  {
   "cell_type": "markdown",
   "metadata": {
    "slideshow": {
     "slide_type": "slide"
    }
   },
   "source": [
    "### 5.0 REFERENCIAS\n",
    "<ul>\n",
    " <li> Senamhi </li>\n",
    "    \n",
    "[SENAMHI](https://www.senamhi.gob.pe/?p=observacion-de-inundaciones).\n",
    "   \n",
    "  <li> Libreria FtpLib </li>\n",
    "    \n",
    "[Ftplib](https://www.it-swarm-es.com/es/python/python-descargue-un-archivo-traves-de-un-servidor-ftp/1067995286/).   \n",
    "    \n",
    "<li> GitHub </li>\n",
    "    \n",
    "[Ftplib](https://github.com/bryan142857/Python).\n",
    "    \n",
    "</ul>\n"
   ]
  },
  {
   "cell_type": "code",
   "execution_count": null,
   "metadata": {},
   "outputs": [],
   "source": [
    "#if __name__ == \"__main__\":\n",
    "#    unittest.main(\n",
    "#        verbosity = 2,\n",
    "#        testRunner= HTMLTestRunner(\n",
    "#            output ='Mercado libre',\n",
    "#            report_name = 'reporte',\n",
    "#        )\n",
    "#    )\n",
    "f = Download_Dail_Pisco()    \n",
    "f.Download()\n",
    "#f.teorDown\n",
    "#self.List = self.Tp.retrlines('LIST')"
   ]
  }
 ],
 "metadata": {
  "jupytext": {
   "formats": "ipynb"
  },
  "kernelspec": {
   "display_name": "Python 3",
   "language": "python",
   "name": "python3"
  },
  "language_info": {
   "codemirror_mode": {
    "name": "ipython",
    "version": 3
   },
   "file_extension": ".py",
   "mimetype": "text/x-python",
   "name": "python",
   "nbconvert_exporter": "python",
   "pygments_lexer": "ipython3",
   "version": "3.7.1"
  },
  "rise": {
   "backimage": "3C_4.png",
   "center": true,
   "enable_chalkboard": true,
   "footer": "<h3>3C-Ingeniería</h3>"
  }
 },
 "nbformat": 4,
 "nbformat_minor": 2
}
