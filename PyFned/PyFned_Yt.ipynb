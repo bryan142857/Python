{
 "cells": [
  {
   "cell_type": "markdown",
   "metadata": {
    "slideshow": {
     "slide_type": "slide"
    }
   },
   "source": [
    "***\n",
    "## <center>EXTRACCIÓN DE DATOS DESDE UN FORMATO NETCDF</center>\n",
    "### <center>CÓDIGO      :     PYTHON </center>\n",
    "### <center>LIBRERIAS   :     RASTERIO </center>\n",
    "### <center>POR         :     VICTOR B. VELÁSQUEZ HUAMÁN </center>\n",
    "### <center>NOMBRE      :     PYFNED </center>\n",
    "### <center>FECHA       :     MAY 15, 2020</center>\n",
    "***\n",
    ">TEMA: Extracción de datos de evapotranspiración, precipitación, temperatura desde un formato NetCDF del Producto  Grillado **PISCO-SENAMHI**"
   ]
  },
  {
   "cell_type": "markdown",
   "metadata": {
    "slideshow": {
     "slide_type": "slide"
    }
   },
   "source": [
    "***Intalación de Librerias***"
   ]
  },
  {
   "cell_type": "code",
   "execution_count": 1,
   "metadata": {},
   "outputs": [],
   "source": [
    "#!pip install xlrd==1.2.0 "
   ]
  },
  {
   "cell_type": "markdown",
   "metadata": {
    "slideshow": {
     "slide_type": "slide"
    }
   },
   "source": [
    "***Importación de Librerias***"
   ]
  },
  {
   "cell_type": "code",
   "execution_count": 2,
   "metadata": {
    "slideshow": {
     "slide_type": "-"
    }
   },
   "outputs": [],
   "source": [
    "from tqdm.notebook import tnrange, tqdm_notebook\n",
    "import numpy as np\n",
    "import rasterio\n",
    "import datetime\n",
    "import xlrd\n",
    "import xlwt\n",
    "import os"
   ]
  },
  {
   "cell_type": "markdown",
   "metadata": {
    "slideshow": {
     "slide_type": "slide"
    }
   },
   "source": [
    "### 1.0  MODELOS DE DATOS MULTIDIMENSIONAL\n",
    "<p style=\"text-align: justify;\"> Los datos multidimensionales representan datos capturados en distintos momentos o en diversas profundidades o alturas. Estos tipos de datos se usan comúnmente en ciencias atmosféricas, oceanográficas , y de la tierra. Los datos ráster multidimensionales se pueden capturar mediante observaciones desde satélite donde los datos se recopilan en ciertos intervalos de tiempo o se generan a partir de modelos numéricos donde los datos se agregan, interpolan o simulan desde otras fuentes de datos.(MappingGIS,<a href=\"https://pro.arcgis.com/es/pro-app/latest/help/data/imagery/an-overview-of-multidimensional-raster-data.htm\">Visit Arcgis.</a>) </p>\n",
    "\n",
    "\n",
    "#### 1.1  MODELO NetCDF\n",
    "<p style=\"text-align: justify;\"> Denominado por sus siglas en ingles <b> Formulario de Datos Comunes de Red\n",
    "    </b>, es un conjunto de bibliotecas de software y formatos de datos autodescriptivos e independientes de la máquina que admiten la creación, el acceso y el intercambio de datos científicos orientados a matrices . (Wikipedia.org,<a href=\"https://en.wikipedia.org/wiki/NetCDF/\">Visit Wiki</a>)</p>\n",
    "    \n",
    "<figure>\n",
    "<img src = \"./Imagenes/Raster_dataset.PNG\" alt = \"Sol\" style=\"width:800px\"> </img>\n",
    "<figcaption> (Fuente :Adaptado desde,<a href=\"https://esri.co/wp-content/uploads/2020/01/Ana%CC%81lisis-y-procesamiento-de-datos-cienti%CC%81ficos-multidimensionales-con-ArcGIS.pdf\">Análisis y Procesamiento de Datos Cientificos Multidimensionakes con ArcGis</a>)\n",
    "</figcaption> \n",
    "</figure>\n",
    "\n",
    "\n"
   ]
  },
  {
   "cell_type": "markdown",
   "metadata": {
    "slideshow": {
     "slide_type": "subslide"
    }
   },
   "source": [
    "**¿Porque usar NetCDF?**\n",
    "Uso de variables desde archivos de NetCDF, HDf y GRIb mediante diferentes tipos de raster, ademas cabe indicar que se pueden almaenar en bandas, datos climáticos, terrestres, geocientíficos, etc\n",
    "\n",
    "**Datos climáticos**\n",
    " <li> Precipitación</li>\n",
    " <li> Humedad</li>\n",
    "  <li> Vientos</li>\n",
    "  \n",
    " **Datos terrestres**\n",
    " <li> Humedad del suelo</li>\n",
    " <li> Ndvi</li>\n",
    "  <li> Coberutura del suelo</li>\n",
    "  \n",
    "**Datos Geocientíficos**\n",
    " <li> Sismología</li>\n",
    " <li> Geofísica</li>\n",
    " <li> Geoquímica</li>\n",
    " \n",
    "#### 1.2  METODOLOGÍA Y APLICACIÓN\n",
    "\n",
    "En la siguiente dirección (<a href=\"https://drive.google.com/drive/folders/1eGqhmJXBJfFSzUFz2RVqtbKIlOphpkcs\">Visit Temperature Pisco-Senamhi.</a>)\n",
    ", se disponen formatos NetCDF de temperatura máxima y mínima.\n",
    "\n",
    "<ul>\n",
    "  <li>Cuenta con una representación temporal desde el 01/01/1981 hasta la 31/12/2016,a escala diaria.</li>\n",
    "\n",
    "</ul>\n",
    "\n",
    "|Data|ID| Datos   | Desde |Hasta|\n",
    "|---------|--|------|------|--------------|\n",
    "|Stable|N°1|01|01/01/1981|31/12/2016|\n",
    "\n",
    "En el siguiente ejemplo se utilizará los datos de NetCDF, de temperatura máxima y mínima\n"
   ]
  },
  {
   "cell_type": "markdown",
   "metadata": {
    "slideshow": {
     "slide_type": "slide"
    }
   },
   "source": [
    "### 2.0  EJEMPLO APLICATIVO\n",
    "<p style=\"text-align: justify;\"> Para la Sub Cuenca del río Ichu identificad con código hidrográfico (49964), obtener los datos de temperatura máxima, minima y evapotranspiración del producto grillado PISCO-SENAMHI, de las estaciones sintéticas  forma distribuida </p>\n",
    "\n",
    "<figure>\n",
    "<img src = \"./Imagenes/C2_Isoevapotra.PNG\" alt = \"Sol\" style=\"width:600px\"> </img>\n",
    "<figcaption> (Fuente :Elaboración Propia,<a href=\"https://drive.google.com/drive/folders/1fs8wGX9H9BV0D0HxJIn2ErAAuYivQLiv?usp=sharing\">Qgis- Eva</a>)\n",
    "</figcaption> \n",
    "</figure>\n",
    "\n",
    "\n",
    "<figure>\n",
    "<img src = \"./Imagenes/C2_Isotermas.PNG\" alt = \"Sol\" style=\"width:600px\"> </img>\n",
    "<figcaption> (Fuente :Elaboración Propia,<a href=\"https://drive.google.com/drive/folders/1fs8wGX9H9BV0D0HxJIn2ErAAuYivQLiv?usp=sharing\">Qgis- Temp</a>)\n",
    "</figcaption> \n",
    "</figure>\n"
   ]
  },
  {
   "cell_type": "markdown",
   "metadata": {
    "slideshow": {
     "slide_type": "subslide"
    }
   },
   "source": [
    "|Id|Xgeo| YGeo   | Nombre |\n",
    "|---------|--|------|------|\n",
    "|Es-1|-75.221|-12.881|Estacion Sintética 01|\n",
    "|Es-2|-75.166|-12.861|Estacion Sintética 02|\n",
    "|Es-3|-75.156|-12.941|Estacion Sintética 03|\n",
    "|Es-4|-75.13|-13.006|Estacion Sintética 04|\n",
    "|Es-5|-75.062|-12.693|Estacion Sintética 05|\n",
    "|Es-6|-75.074|-12.769|Estacion Sintética 06|\n",
    "|Es-7|-75.079|-12.855|Estacion Sintética 07|\n",
    "|Es-8|-75.082|-12.951|Estacion Sintética 08|\n",
    "|Es-9|-75.072|-13.03|Estacion Sintética 09|\n",
    "|Es-10|-74.958|-12.604|Estacion Sintética 10|\n",
    "|Es-11|-74.982|-12.68|Estacion Sintética 11|\n",
    "|Es-12|-74.983|-12.769|Estacion Sintética 12|\n",
    "|Es-13|-74.988|-12.835|Estacion Sintética 13|\n",
    "|Es-14|-74.894|-12.594|Estacion Sintética 14|\n",
    "|Es-15|-74.891|-12.679|Estacion Sintética 15|\n",
    "|Es-16|-74.891|-12.769|Estacion Sintética 16|\n",
    "|Es-17|-74.884|-12.846|Estacion Sintética 17|\n",
    "|Es-18|-74.823|-12.612|Estacion Sintética 18|\n",
    "|Es-19|-74.81|-12.68|Estacion Sintética 19|\n",
    "|Es-20|-74.815|-12.766|Estacion Sintética 20|\n",
    "|Es-21|-74.83|-12.835|Estacion Sintética 21|"
   ]
  },
  {
   "cell_type": "markdown",
   "metadata": {
    "slideshow": {
     "slide_type": "slide"
    }
   },
   "source": [
    "***Definimos la Direccion de Trabajo***"
   ]
  },
  {
   "cell_type": "code",
   "execution_count": 17,
   "metadata": {
    "slideshow": {
     "slide_type": "-"
    }
   },
   "outputs": [],
   "source": [
    "path = \"D:\\\\Pisco\\\\Pisco-Evapotranspitarion\"\n",
    "os.chdir(path)"
   ]
  },
  {
   "cell_type": "markdown",
   "metadata": {
    "slideshow": {
     "slide_type": "slide"
    }
   },
   "source": [
    "**Definimos la clase para la Extracción de datos desde un formato multibanda**"
   ]
  },
  {
   "cell_type": "code",
   "execution_count": 26,
   "metadata": {},
   "outputs": [],
   "source": [
    "class PyTned():   \n",
    "    def __init__(self):\n",
    "        xls = xlrd.open_workbook(path +\"\\\\Point.xlsx\")\n",
    "        libro = xls.sheet_by_index(7)\n",
    "        self.Name_Estaciones = libro.col_values(0)[1::]\n",
    "        self.x = libro.col_values(1)[1::]\n",
    "        self.y = libro.col_values(2)[1::]\n",
    "        \n",
    "    def Ambito(self, ini = '1981-01-01', fin = '2016-12-31'):\n",
    "        Origen = datetime.date.fromisoformat('1981-01-01')\n",
    "        self.Inicial = datetime.date.fromisoformat(ini)\n",
    "        Final = datetime.date.fromisoformat(fin)\n",
    "\n",
    "        self.Band_Ini = (self.Inicial - Origen).days + 1\n",
    "        self.Band_End = (Final - Origen).days + 2\n",
    "\n",
    "    def DataPre(self,DataPisco):\n",
    "        with rasterio.open(DataPisco) as Data: \n",
    "            self.Numbanda = Data.count\n",
    "            self.ListPre = []\n",
    "            for i in tqdm_notebook(range (self.Band_Ini,self.Band_End), desc ='¡¡ Extraendo ¡¡'):   \n",
    "                Band = Data.read(i)\n",
    "                X,Y  = Data.index(self.x,self.y)\n",
    "                Pre  = Band[X,Y]\n",
    "                self.ListPre.append(Pre)\n",
    "        \n",
    "    def ExportExcel(self,Name_export):\n",
    "        style0 = xlwt.easyxf('font: name Century Gothic, color-index blue, bold on, height 180 ;align: vert centre, horz center')\n",
    "        style1 = xlwt.easyxf('font: name Century Gothic, color-index black, bold off, height 180;align: vert centre, horz center', num_format_str='#,##0.000')\n",
    "        style2 = xlwt.easyxf('font: name Century Gothic, color-index black, bold on, height 180;align: vert centre, horz center', num_format_str='dd/mm/yyyy')\n",
    "        wb = xlwt.Workbook()\n",
    "        ws = wb.add_sheet('Export')\n",
    "        ws.write(0, 0, u'Fecha', style0)\n",
    "        for i in range (0,len(self.Name_Estaciones)):\n",
    "            ws.write(0, i+1, self.Name_Estaciones[i], style0)\n",
    "            \n",
    "        for i in range(self.Band_Ini-1,self.Band_End-1):\n",
    "            intervalo = datetime.timedelta(days=i)\n",
    "            ws.write(i+1, 0, str(self.Inicial  + intervalo), style2) \n",
    "            \n",
    "            for j in range (0,len(self.Name_Estaciones)):\n",
    "                if (len(self.Name_Estaciones) == 1):\n",
    "                    ws.write(i+1, j+1, self.ListPre[i].astype(np.float64),style1)\n",
    "                else:\n",
    "                    ws.write(i+1, j+1, self.ListPre[i][j].astype(np.float64),style1)\n",
    "        wb.save(str(Name_export) + '.xls')"
   ]
  },
  {
   "cell_type": "code",
   "execution_count": 27,
   "metadata": {
    "slideshow": {
     "slide_type": "slide"
    }
   },
   "outputs": [
    {
     "data": {
      "application/vnd.jupyter.widget-view+json": {
       "model_id": "a704b98842f94a6c9f440b9cfbf44f52",
       "version_major": 2,
       "version_minor": 0
      },
      "text/plain": [
       "¡¡ Extraendo ¡¡:   0%|          | 0/121 [00:00<?, ?it/s]"
      ]
     },
     "metadata": {},
     "output_type": "display_data"
    }
   ],
   "source": [
    "if __name__ == \"__main__\": \n",
    "    Pisco = PyTned()\n",
    "    Pisco.Ambito('1981-01-01','1981-05-01')\n",
    "    Pisco.DataPre('PISCOdpe_oudin_v1.1.nc')\n",
    "    Pisco.ExportExcel('Eva_Ichu_01_')"
   ]
  },
  {
   "cell_type": "markdown",
   "metadata": {
    "slideshow": {
     "slide_type": "slide"
    }
   },
   "source": [
    "### 3.0 REFERENCIAS\n",
    "<ul>\n",
    " <li> Senamhi </li>\n",
    "    \n",
    "[SENAMHI - Precipitación](https://www.senamhi.gob.pe/?p=observacion-de-inundaciones).\n",
    "    \n",
    "  <li> Senamhi - Evapotranspiración</li>\n",
    "    \n",
    "[SENAMHI - Evapotranspiración ](https://drive.google.com/drive/folders/1kqRGmoP_ySjHX_KOSjRIJiYvp85Lwe3C).\n",
    "  \n",
    "  <li> Senamhi - Temperatura </li>\n",
    "    \n",
    "[SENAMHI - Temperatura](https://drive.google.com/drive/folders/1eGqhmJXBJfFSzUFz2RVqtbKIlOphpkcs).\n",
    "   \n",
    "  <li> Libreria Rasterio </li>\n",
    "    \n",
    "[Rasterio](https://rasterio.readthedocs.io/en/latest/installation.html).   \n",
    "    \n",
    "  <li> Libreria Xlrd</li>\n",
    "    \n",
    "[Xlrd](https://pypi.org/project/xlrd/).           \n",
    "    \n",
    "<li> GitHub Victor Brian Velásquez Huamán </li>\n",
    "    \n",
    "[GitHub](https://github.com/bryan142857/Python).\n",
    "    \n",
    "</ul>"
   ]
  }
 ],
 "metadata": {
  "celltoolbar": "Slideshow",
  "jupytext": {
   "formats": "ipynb"
  },
  "kernelspec": {
   "display_name": "Python 3",
   "language": "python",
   "name": "python3"
  },
  "language_info": {
   "codemirror_mode": {
    "name": "ipython",
    "version": 3
   },
   "file_extension": ".py",
   "mimetype": "text/x-python",
   "name": "python",
   "nbconvert_exporter": "python",
   "pygments_lexer": "ipython3",
   "version": "3.7.1"
  },
  "rise": {
   "backimage": "3C_4_Rec.png",
   "center": true,
   "enable_chalkboard": true,
   "footer": "<h3>3C-Ingeniería </h3>"
  }
 },
 "nbformat": 4,
 "nbformat_minor": 2
}
